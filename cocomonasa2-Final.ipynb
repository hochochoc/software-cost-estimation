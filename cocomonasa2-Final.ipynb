{
 "cells": [
  {
   "cell_type": "code",
   "execution_count": 1,
   "id": "d4e59da9",
   "metadata": {},
   "outputs": [
    {
     "data": {
      "text/plain": [
       "{'divide': 'warn', 'over': 'warn', 'under': 'ignore', 'invalid': 'warn'}"
      ]
     },
     "execution_count": 1,
     "metadata": {},
     "output_type": "execute_result"
    }
   ],
   "source": [
    "import pandas as pd\n",
    "from io import StringIO, BytesIO\n",
    "from scipy.io.arff import loadarff\n",
    "import urllib.request\n",
    "import numpy as np\n",
    "from sklearn.model_selection import train_test_split\n",
    "from sklearn import preprocessing, metrics\n",
    "from sklearn.model_selection import RepeatedKFold\n",
    "from sklearn.metrics import make_scorer\n",
    "from sklearn.model_selection import GridSearchCV,RandomizedSearchCV\n",
    "from sklearn.linear_model import LinearRegression, BayesianRidge, Ridge, Lasso\n",
    "from sklearn.ensemble import RandomForestRegressor, AdaBoostRegressor\n",
    "from sklearn.tree import DecisionTreeRegressor\n",
    "from sklearn import svm\n",
    "import matplotlib.pyplot as plt\n",
    "np.seterr(invalid='ignore')"
   ]
  },
  {
   "cell_type": "code",
   "execution_count": 2,
   "id": "9296c5f2",
   "metadata": {},
   "outputs": [
    {
     "data": {
      "text/html": [
       "<div>\n",
       "<style scoped>\n",
       "    .dataframe tbody tr th:only-of-type {\n",
       "        vertical-align: middle;\n",
       "    }\n",
       "\n",
       "    .dataframe tbody tr th {\n",
       "        vertical-align: top;\n",
       "    }\n",
       "\n",
       "    .dataframe thead th {\n",
       "        text-align: right;\n",
       "    }\n",
       "</style>\n",
       "<table border=\"1\" class=\"dataframe\">\n",
       "  <thead>\n",
       "    <tr style=\"text-align: right;\">\n",
       "      <th></th>\n",
       "      <th>recordnumber</th>\n",
       "      <th>projectname</th>\n",
       "      <th>cat2</th>\n",
       "      <th>forg</th>\n",
       "      <th>center</th>\n",
       "      <th>year</th>\n",
       "      <th>mode</th>\n",
       "      <th>rely</th>\n",
       "      <th>data</th>\n",
       "      <th>cplx</th>\n",
       "      <th>...</th>\n",
       "      <th>acap</th>\n",
       "      <th>aexp</th>\n",
       "      <th>pcap</th>\n",
       "      <th>vexp</th>\n",
       "      <th>lexp</th>\n",
       "      <th>modp</th>\n",
       "      <th>tool</th>\n",
       "      <th>sced</th>\n",
       "      <th>equivphyskloc</th>\n",
       "      <th>act_effort</th>\n",
       "    </tr>\n",
       "  </thead>\n",
       "  <tbody>\n",
       "    <tr>\n",
       "      <th>0</th>\n",
       "      <td>1.0</td>\n",
       "      <td>b'de'</td>\n",
       "      <td>b'avionicsmonitoring'</td>\n",
       "      <td>b'g'</td>\n",
       "      <td>b'2'</td>\n",
       "      <td>1979.0</td>\n",
       "      <td>b'semidetached'</td>\n",
       "      <td>b'h'</td>\n",
       "      <td>b'l'</td>\n",
       "      <td>b'h'</td>\n",
       "      <td>...</td>\n",
       "      <td>b'n'</td>\n",
       "      <td>b'n'</td>\n",
       "      <td>b'n'</td>\n",
       "      <td>b'n'</td>\n",
       "      <td>b'h'</td>\n",
       "      <td>b'h'</td>\n",
       "      <td>b'n'</td>\n",
       "      <td>b'l'</td>\n",
       "      <td>25.9</td>\n",
       "      <td>117.6</td>\n",
       "    </tr>\n",
       "    <tr>\n",
       "      <th>1</th>\n",
       "      <td>2.0</td>\n",
       "      <td>b'de'</td>\n",
       "      <td>b'avionicsmonitoring'</td>\n",
       "      <td>b'g'</td>\n",
       "      <td>b'2'</td>\n",
       "      <td>1979.0</td>\n",
       "      <td>b'semidetached'</td>\n",
       "      <td>b'h'</td>\n",
       "      <td>b'l'</td>\n",
       "      <td>b'h'</td>\n",
       "      <td>...</td>\n",
       "      <td>b'n'</td>\n",
       "      <td>b'n'</td>\n",
       "      <td>b'n'</td>\n",
       "      <td>b'n'</td>\n",
       "      <td>b'h'</td>\n",
       "      <td>b'h'</td>\n",
       "      <td>b'n'</td>\n",
       "      <td>b'l'</td>\n",
       "      <td>24.6</td>\n",
       "      <td>117.6</td>\n",
       "    </tr>\n",
       "    <tr>\n",
       "      <th>2</th>\n",
       "      <td>3.0</td>\n",
       "      <td>b'de'</td>\n",
       "      <td>b'avionicsmonitoring'</td>\n",
       "      <td>b'g'</td>\n",
       "      <td>b'2'</td>\n",
       "      <td>1979.0</td>\n",
       "      <td>b'semidetached'</td>\n",
       "      <td>b'h'</td>\n",
       "      <td>b'l'</td>\n",
       "      <td>b'h'</td>\n",
       "      <td>...</td>\n",
       "      <td>b'n'</td>\n",
       "      <td>b'n'</td>\n",
       "      <td>b'n'</td>\n",
       "      <td>b'n'</td>\n",
       "      <td>b'h'</td>\n",
       "      <td>b'h'</td>\n",
       "      <td>b'n'</td>\n",
       "      <td>b'l'</td>\n",
       "      <td>7.7</td>\n",
       "      <td>31.2</td>\n",
       "    </tr>\n",
       "    <tr>\n",
       "      <th>3</th>\n",
       "      <td>4.0</td>\n",
       "      <td>b'de'</td>\n",
       "      <td>b'avionicsmonitoring'</td>\n",
       "      <td>b'g'</td>\n",
       "      <td>b'2'</td>\n",
       "      <td>1979.0</td>\n",
       "      <td>b'semidetached'</td>\n",
       "      <td>b'h'</td>\n",
       "      <td>b'l'</td>\n",
       "      <td>b'h'</td>\n",
       "      <td>...</td>\n",
       "      <td>b'n'</td>\n",
       "      <td>b'n'</td>\n",
       "      <td>b'n'</td>\n",
       "      <td>b'n'</td>\n",
       "      <td>b'h'</td>\n",
       "      <td>b'h'</td>\n",
       "      <td>b'n'</td>\n",
       "      <td>b'l'</td>\n",
       "      <td>8.2</td>\n",
       "      <td>36.0</td>\n",
       "    </tr>\n",
       "    <tr>\n",
       "      <th>4</th>\n",
       "      <td>5.0</td>\n",
       "      <td>b'de'</td>\n",
       "      <td>b'avionicsmonitoring'</td>\n",
       "      <td>b'g'</td>\n",
       "      <td>b'2'</td>\n",
       "      <td>1979.0</td>\n",
       "      <td>b'semidetached'</td>\n",
       "      <td>b'h'</td>\n",
       "      <td>b'l'</td>\n",
       "      <td>b'h'</td>\n",
       "      <td>...</td>\n",
       "      <td>b'n'</td>\n",
       "      <td>b'n'</td>\n",
       "      <td>b'n'</td>\n",
       "      <td>b'n'</td>\n",
       "      <td>b'h'</td>\n",
       "      <td>b'h'</td>\n",
       "      <td>b'n'</td>\n",
       "      <td>b'l'</td>\n",
       "      <td>9.7</td>\n",
       "      <td>25.2</td>\n",
       "    </tr>\n",
       "  </tbody>\n",
       "</table>\n",
       "<p>5 rows × 24 columns</p>\n",
       "</div>"
      ],
      "text/plain": [
       "   recordnumber projectname                   cat2  forg center    year  \\\n",
       "0           1.0       b'de'  b'avionicsmonitoring'  b'g'   b'2'  1979.0   \n",
       "1           2.0       b'de'  b'avionicsmonitoring'  b'g'   b'2'  1979.0   \n",
       "2           3.0       b'de'  b'avionicsmonitoring'  b'g'   b'2'  1979.0   \n",
       "3           4.0       b'de'  b'avionicsmonitoring'  b'g'   b'2'  1979.0   \n",
       "4           5.0       b'de'  b'avionicsmonitoring'  b'g'   b'2'  1979.0   \n",
       "\n",
       "              mode  rely  data  cplx  ...  acap  aexp  pcap  vexp  lexp  modp  \\\n",
       "0  b'semidetached'  b'h'  b'l'  b'h'  ...  b'n'  b'n'  b'n'  b'n'  b'h'  b'h'   \n",
       "1  b'semidetached'  b'h'  b'l'  b'h'  ...  b'n'  b'n'  b'n'  b'n'  b'h'  b'h'   \n",
       "2  b'semidetached'  b'h'  b'l'  b'h'  ...  b'n'  b'n'  b'n'  b'n'  b'h'  b'h'   \n",
       "3  b'semidetached'  b'h'  b'l'  b'h'  ...  b'n'  b'n'  b'n'  b'n'  b'h'  b'h'   \n",
       "4  b'semidetached'  b'h'  b'l'  b'h'  ...  b'n'  b'n'  b'n'  b'n'  b'h'  b'h'   \n",
       "\n",
       "   tool  sced equivphyskloc act_effort  \n",
       "0  b'n'  b'l'          25.9      117.6  \n",
       "1  b'n'  b'l'          24.6      117.6  \n",
       "2  b'n'  b'l'           7.7       31.2  \n",
       "3  b'n'  b'l'           8.2       36.0  \n",
       "4  b'n'  b'l'           9.7       25.2  \n",
       "\n",
       "[5 rows x 24 columns]"
      ]
     },
     "execution_count": 2,
     "metadata": {},
     "output_type": "execute_result"
    }
   ],
   "source": [
    "cocomonasa2_url = 'http://promise.site.uottawa.ca/SERepository/datasets/cocomonasa_2.arff'\n",
    "resp2 = urllib.request.urlopen(cocomonasa2_url)\n",
    "cocomonasa2_data, cocomonasa2_meta = loadarff(StringIO(resp2.read().decode('utf-8')))\n",
    "cocomonasa2_df = pd.DataFrame(cocomonasa2_data)\n",
    "cocomonasa2_df.head()"
   ]
  },
  {
   "cell_type": "code",
   "execution_count": 3,
   "id": "fa95965b",
   "metadata": {},
   "outputs": [
    {
     "data": {
      "text/html": [
       "<div>\n",
       "<style scoped>\n",
       "    .dataframe tbody tr th:only-of-type {\n",
       "        vertical-align: middle;\n",
       "    }\n",
       "\n",
       "    .dataframe tbody tr th {\n",
       "        vertical-align: top;\n",
       "    }\n",
       "\n",
       "    .dataframe thead th {\n",
       "        text-align: right;\n",
       "    }\n",
       "</style>\n",
       "<table border=\"1\" class=\"dataframe\">\n",
       "  <thead>\n",
       "    <tr style=\"text-align: right;\">\n",
       "      <th></th>\n",
       "      <th>recordnumber</th>\n",
       "      <th>projectname</th>\n",
       "      <th>cat2</th>\n",
       "      <th>forg</th>\n",
       "      <th>center</th>\n",
       "      <th>year</th>\n",
       "      <th>mode</th>\n",
       "      <th>rely</th>\n",
       "      <th>data</th>\n",
       "      <th>cplx</th>\n",
       "      <th>...</th>\n",
       "      <th>acap</th>\n",
       "      <th>aexp</th>\n",
       "      <th>pcap</th>\n",
       "      <th>vexp</th>\n",
       "      <th>lexp</th>\n",
       "      <th>modp</th>\n",
       "      <th>tool</th>\n",
       "      <th>sced</th>\n",
       "      <th>equivphyskloc</th>\n",
       "      <th>act_effort</th>\n",
       "    </tr>\n",
       "  </thead>\n",
       "  <tbody>\n",
       "    <tr>\n",
       "      <th>0</th>\n",
       "      <td>1.0</td>\n",
       "      <td>2</td>\n",
       "      <td>2</td>\n",
       "      <td>1</td>\n",
       "      <td>1</td>\n",
       "      <td>1979.0</td>\n",
       "      <td>2</td>\n",
       "      <td>0</td>\n",
       "      <td>1</td>\n",
       "      <td>0</td>\n",
       "      <td>...</td>\n",
       "      <td>1</td>\n",
       "      <td>2</td>\n",
       "      <td>1</td>\n",
       "      <td>2</td>\n",
       "      <td>0</td>\n",
       "      <td>0</td>\n",
       "      <td>2</td>\n",
       "      <td>1</td>\n",
       "      <td>25.9</td>\n",
       "      <td>117.6</td>\n",
       "    </tr>\n",
       "    <tr>\n",
       "      <th>1</th>\n",
       "      <td>2.0</td>\n",
       "      <td>2</td>\n",
       "      <td>2</td>\n",
       "      <td>1</td>\n",
       "      <td>1</td>\n",
       "      <td>1979.0</td>\n",
       "      <td>2</td>\n",
       "      <td>0</td>\n",
       "      <td>1</td>\n",
       "      <td>0</td>\n",
       "      <td>...</td>\n",
       "      <td>1</td>\n",
       "      <td>2</td>\n",
       "      <td>1</td>\n",
       "      <td>2</td>\n",
       "      <td>0</td>\n",
       "      <td>0</td>\n",
       "      <td>2</td>\n",
       "      <td>1</td>\n",
       "      <td>24.6</td>\n",
       "      <td>117.6</td>\n",
       "    </tr>\n",
       "    <tr>\n",
       "      <th>2</th>\n",
       "      <td>3.0</td>\n",
       "      <td>2</td>\n",
       "      <td>2</td>\n",
       "      <td>1</td>\n",
       "      <td>1</td>\n",
       "      <td>1979.0</td>\n",
       "      <td>2</td>\n",
       "      <td>0</td>\n",
       "      <td>1</td>\n",
       "      <td>0</td>\n",
       "      <td>...</td>\n",
       "      <td>1</td>\n",
       "      <td>2</td>\n",
       "      <td>1</td>\n",
       "      <td>2</td>\n",
       "      <td>0</td>\n",
       "      <td>0</td>\n",
       "      <td>2</td>\n",
       "      <td>1</td>\n",
       "      <td>7.7</td>\n",
       "      <td>31.2</td>\n",
       "    </tr>\n",
       "    <tr>\n",
       "      <th>3</th>\n",
       "      <td>4.0</td>\n",
       "      <td>2</td>\n",
       "      <td>2</td>\n",
       "      <td>1</td>\n",
       "      <td>1</td>\n",
       "      <td>1979.0</td>\n",
       "      <td>2</td>\n",
       "      <td>0</td>\n",
       "      <td>1</td>\n",
       "      <td>0</td>\n",
       "      <td>...</td>\n",
       "      <td>1</td>\n",
       "      <td>2</td>\n",
       "      <td>1</td>\n",
       "      <td>2</td>\n",
       "      <td>0</td>\n",
       "      <td>0</td>\n",
       "      <td>2</td>\n",
       "      <td>1</td>\n",
       "      <td>8.2</td>\n",
       "      <td>36.0</td>\n",
       "    </tr>\n",
       "    <tr>\n",
       "      <th>4</th>\n",
       "      <td>5.0</td>\n",
       "      <td>2</td>\n",
       "      <td>2</td>\n",
       "      <td>1</td>\n",
       "      <td>1</td>\n",
       "      <td>1979.0</td>\n",
       "      <td>2</td>\n",
       "      <td>0</td>\n",
       "      <td>1</td>\n",
       "      <td>0</td>\n",
       "      <td>...</td>\n",
       "      <td>1</td>\n",
       "      <td>2</td>\n",
       "      <td>1</td>\n",
       "      <td>2</td>\n",
       "      <td>0</td>\n",
       "      <td>0</td>\n",
       "      <td>2</td>\n",
       "      <td>1</td>\n",
       "      <td>9.7</td>\n",
       "      <td>25.2</td>\n",
       "    </tr>\n",
       "  </tbody>\n",
       "</table>\n",
       "<p>5 rows × 24 columns</p>\n",
       "</div>"
      ],
      "text/plain": [
       "   recordnumber  projectname  cat2  forg  center    year  mode  rely  data  \\\n",
       "0           1.0            2     2     1       1  1979.0     2     0     1   \n",
       "1           2.0            2     2     1       1  1979.0     2     0     1   \n",
       "2           3.0            2     2     1       1  1979.0     2     0     1   \n",
       "3           4.0            2     2     1       1  1979.0     2     0     1   \n",
       "4           5.0            2     2     1       1  1979.0     2     0     1   \n",
       "\n",
       "   cplx  ...  acap  aexp  pcap  vexp  lexp  modp  tool  sced  equivphyskloc  \\\n",
       "0     0  ...     1     2     1     2     0     0     2     1           25.9   \n",
       "1     0  ...     1     2     1     2     0     0     2     1           24.6   \n",
       "2     0  ...     1     2     1     2     0     0     2     1            7.7   \n",
       "3     0  ...     1     2     1     2     0     0     2     1            8.2   \n",
       "4     0  ...     1     2     1     2     0     0     2     1            9.7   \n",
       "\n",
       "   act_effort  \n",
       "0       117.6  \n",
       "1       117.6  \n",
       "2        31.2  \n",
       "3        36.0  \n",
       "4        25.2  \n",
       "\n",
       "[5 rows x 24 columns]"
      ]
     },
     "execution_count": 3,
     "metadata": {},
     "output_type": "execute_result"
    }
   ],
   "source": [
    "cols = cocomonasa2_df.columns\n",
    "num_cols = cocomonasa2_df._get_numeric_data().columns\n",
    "nominal_cols = list(set(cols) - set(num_cols))\n",
    "# transform nominal columns\n",
    "for col in nominal_cols:\n",
    "    cocomonasa2_df[col] = cocomonasa2_df[col].astype('category').cat.codes\n",
    "cocomonasa2_df.head()"
   ]
  },
  {
   "cell_type": "code",
   "execution_count": 4,
   "id": "a6e94dc3",
   "metadata": {},
   "outputs": [],
   "source": [
    "cocomonasa2_X = cocomonasa2_df.iloc[:, 1:-1]\n",
    "cocomonasa2_y = cocomonasa2_df.iloc[:, -1]"
   ]
  },
  {
   "cell_type": "code",
   "execution_count": 5,
   "id": "fbb26624",
   "metadata": {},
   "outputs": [],
   "source": [
    "def evaluate_model(actual, predicted):\n",
    "    diff=np.absolute(actual-predicted)\n",
    "    MRE=diff/actual\n",
    "    pred = {}\n",
    "    for x in np.array([.25, .3, .5]):\n",
    "        P=MRE[MRE<x]\n",
    "        pred[x] = (P.size/MRE.size) * 100\n",
    "    return np.mean(MRE), np.median(MRE), pred"
   ]
  },
  {
   "cell_type": "code",
   "execution_count": 6,
   "id": "a4dbd6d7",
   "metadata": {},
   "outputs": [],
   "source": [
    "X_train, X_test, y_train, y_test = train_test_split(\n",
    "    cocomonasa2_X, cocomonasa2_y, test_size=0.25, random_state=42)"
   ]
  },
  {
   "cell_type": "markdown",
   "id": "fab08909",
   "metadata": {},
   "source": [
    "# Comparision"
   ]
  },
  {
   "cell_type": "code",
   "execution_count": 48,
   "id": "d63abc39",
   "metadata": {},
   "outputs": [
    {
     "data": {
      "text/plain": [
       "RandomizedSearchCV(cv=10, estimator=RandomForestRegressor(), n_iter=100,\n",
       "                   n_jobs=-1,\n",
       "                   param_distributions={'bootstrap': [True, False],\n",
       "                                        'max_depth': [10, 20, 30, 40, 50, 60,\n",
       "                                                      70, 80, 90, 100, None],\n",
       "                                        'max_features': [1, 2, 3, 4, 5, 6, 7, 8,\n",
       "                                                         9, 10],\n",
       "                                        'min_samples_leaf': [1, 2, 4],\n",
       "                                        'min_samples_split': [2, 5, 10],\n",
       "                                        'n_estimators': [200, 400, 600, 800,\n",
       "                                                         1000, 1200, 1400, 1600,\n",
       "                                                         1800, 2000]},\n",
       "                   random_state=42)"
      ]
     },
     "execution_count": 48,
     "metadata": {},
     "output_type": "execute_result"
    }
   ],
   "source": [
    "random_grid={'bootstrap': [True, False],\n",
    " 'max_depth': [10, 20, 30, 40, 50, 60, 70, 80, 90, 100, None],\n",
    " 'max_features': [1,2,3,4,5,6,7,8,9,10],\n",
    " 'min_samples_leaf': [1, 2, 4],\n",
    " 'min_samples_split': [2, 5, 10],\n",
    " 'n_estimators': [200, 400, 600, 800, 1000, 1200, 1400, 1600, 1800, 2000]}\n",
    "\n",
    "clf= RandomForestRegressor()\n",
    "random_grd_search=RandomizedSearchCV(estimator = clf, param_distributions = random_grid, n_iter = 100, cv = 10, \n",
    "                              random_state=42, n_jobs = -1)\n",
    "random_grd_search.fit(X_train, y_train)"
   ]
  },
  {
   "cell_type": "code",
   "execution_count": 49,
   "id": "14efe541",
   "metadata": {},
   "outputs": [
    {
     "name": "stdout",
     "output_type": "stream",
     "text": [
      "{'n_estimators': 1800, 'min_samples_split': 2, 'min_samples_leaf': 1, 'max_features': 1, 'max_depth': 90, 'bootstrap': True}\n",
      "-1.4790756256913113\n",
      "(0.9001266685812972, 0.5535225740175475, {0.25: 37.5, 0.3: 37.5, 0.5: 45.83333333333333})\n"
     ]
    }
   ],
   "source": [
    "print(random_grd_search.best_params_)\n",
    "print(random_grd_search.best_score_)\n",
    "\n",
    "y_predict = random_grd_search.best_estimator_.predict(X_test)\n",
    "print(evaluate_model(y_test, y_predict))"
   ]
  },
  {
   "cell_type": "markdown",
   "id": "6d0353fb",
   "metadata": {},
   "source": [
    "## SVR"
   ]
  },
  {
   "cell_type": "code",
   "execution_count": 11,
   "id": "70252273",
   "metadata": {
    "scrolled": true
   },
   "outputs": [
    {
     "data": {
      "text/plain": [
       "RandomizedSearchCV(cv=10, estimator=SVR(), n_iter=42, n_jobs=-1,\n",
       "                   param_distributions={'C': [1.5, 10],\n",
       "                                        'epsilon': [0.1, 0.2, 0.5, 0.3],\n",
       "                                        'gamma': [1e-07, 0.0001],\n",
       "                                        'kernel': ('linear', 'rbf', 'poly')},\n",
       "                   random_state=42)"
      ]
     },
     "execution_count": 11,
     "metadata": {},
     "output_type": "execute_result"
    }
   ],
   "source": [
    "svr_params = {'kernel': ('linear','rbf','poly'), 'C':[1.5, 10],'gamma': [1e-7, 1e-4],'epsilon':[0.1,0.2,0.5,0.3]}\n",
    "svr= svm.SVR()\n",
    "svr_random_grd_search=RandomizedSearchCV(estimator = svr, param_distributions = svr_params, n_iter=42, cv = 10, \n",
    "                              random_state=42, n_jobs = -1)\n",
    "svr_random_grd_search.fit(X_train, y_train)"
   ]
  },
  {
   "cell_type": "code",
   "execution_count": 12,
   "id": "842c67d1",
   "metadata": {},
   "outputs": [
    {
     "name": "stdout",
     "output_type": "stream",
     "text": [
      "-0.28361041984189134\n",
      "{'kernel': 'rbf', 'gamma': 0.0001, 'epsilon': 0.2, 'C': 10}\n",
      "(1.4560117165243611, 0.6544852178646154, {0.25: 16.666666666666664, 0.3: 16.666666666666664, 0.5: 29.166666666666668})\n"
     ]
    }
   ],
   "source": [
    "print(svr_random_grd_search.best_score_)\n",
    "print(svr_random_grd_search.best_params_)\n",
    "svr_y_predict = svr_random_grd_search.best_estimator_.predict(X_test)\n",
    "print(evaluate_model(y_test, svr_y_predict))"
   ]
  },
  {
   "cell_type": "markdown",
   "id": "99bfb22d",
   "metadata": {},
   "source": [
    "## Decision Tree Regressor"
   ]
  },
  {
   "cell_type": "code",
   "execution_count": 17,
   "id": "61c4b8d9",
   "metadata": {},
   "outputs": [
    {
     "data": {
      "text/plain": [
       "RandomizedSearchCV(cv=10, estimator=DecisionTreeRegressor(), n_iter=28000,\n",
       "                   n_jobs=-1,\n",
       "                   param_distributions={'max_depth': [1, 3, 5, 7, 9, 11, 12],\n",
       "                                        'max_features': ['auto', 'log2', 'sqrt',\n",
       "                                                         None],\n",
       "                                        'max_leaf_nodes': [None, 10, 20, 30, 40,\n",
       "                                                           50, 60, 70, 80, 90],\n",
       "                                        'min_samples_leaf': [1, 2, 3, 4, 5, 6,\n",
       "                                                             7, 8, 9, 10],\n",
       "                                        'min_weight_fraction_leaf': [0.1, 0.2,\n",
       "                                                                     0.3, 0.4,\n",
       "                                                                     0.5],\n",
       "                                        'splitter': ['best', 'random']},\n",
       "                   random_state=42)"
      ]
     },
     "execution_count": 17,
     "metadata": {},
     "output_type": "execute_result"
    }
   ],
   "source": [
    "dtr_params={\"splitter\":[\"best\",\"random\"],\n",
    "            \"max_depth\" : [1,3,5,7,9,11,12],\n",
    "            \"min_samples_leaf\":[1,2,3,4,5,6,7,8,9,10],\n",
    "            \"min_weight_fraction_leaf\":[0.1,0.2,0.3,0.4,0.5],\n",
    "            \"max_features\":[\"auto\",\"log2\",\"sqrt\",None],\n",
    "            \"max_leaf_nodes\":[None,10,20,30,40,50,60,70,80,90] }\n",
    "dtr = DecisionTreeRegressor()\n",
    "dtr_random_grd_search=RandomizedSearchCV(estimator = dtr, param_distributions = dtr_params, n_iter=28000, cv = 10, \n",
    "                              random_state=42, n_jobs = -1)\n",
    "dtr_random_grd_search.fit(X_train, y_train)"
   ]
  },
  {
   "cell_type": "code",
   "execution_count": 18,
   "id": "1c837901",
   "metadata": {},
   "outputs": [
    {
     "name": "stdout",
     "output_type": "stream",
     "text": [
      "-0.1583716040665038\n",
      "{'splitter': 'random', 'min_weight_fraction_leaf': 0.1, 'min_samples_leaf': 2, 'max_leaf_nodes': 10, 'max_features': 'auto', 'max_depth': 11}\n",
      "(1.295519512368273, 0.7710938084024819, {0.25: 16.666666666666664, 0.3: 20.833333333333336, 0.5: 20.833333333333336})\n"
     ]
    }
   ],
   "source": [
    "print(dtr_random_grd_search.best_score_)\n",
    "print(dtr_random_grd_search.best_params_)\n",
    "dtr_y_predict = dtr_random_grd_search.best_estimator_.predict(X_test)\n",
    "print(evaluate_model(y_test, dtr_y_predict))"
   ]
  },
  {
   "cell_type": "markdown",
   "id": "41cff12b",
   "metadata": {},
   "source": [
    "## Ridge"
   ]
  },
  {
   "cell_type": "code",
   "execution_count": 19,
   "id": "f154ee00",
   "metadata": {},
   "outputs": [
    {
     "data": {
      "text/plain": [
       "RandomizedSearchCV(cv=10, estimator=Ridge(), n_iter=9, n_jobs=-1,\n",
       "                   param_distributions={'alpha': [200, 230, 250, 265, 270, 275,\n",
       "                                                  290, 300, 500]},\n",
       "                   random_state=42)"
      ]
     },
     "execution_count": 19,
     "metadata": {},
     "output_type": "execute_result"
    }
   ],
   "source": [
    "rr_params = {'alpha':[200, 230, 250,265, 270, 275, 290, 300, 500]}\n",
    "rr = Ridge()\n",
    "rr_random_grd_search=RandomizedSearchCV(estimator = rr, param_distributions = rr_params, n_iter=9, cv = 10, \n",
    "                              random_state=42, n_jobs = -1)\n",
    "rr_random_grd_search.fit(X_train, y_train)"
   ]
  },
  {
   "cell_type": "code",
   "execution_count": 20,
   "id": "20c59e5c",
   "metadata": {},
   "outputs": [
    {
     "name": "stdout",
     "output_type": "stream",
     "text": [
      "-2.90321492834964\n",
      "{'alpha': 200}\n",
      "(1.9650581807049745, 0.801779912068847, {0.25: 20.833333333333336, 0.3: 20.833333333333336, 0.5: 29.166666666666668})\n"
     ]
    }
   ],
   "source": [
    "print(rr_random_grd_search.best_score_)\n",
    "print(rr_random_grd_search.best_params_)\n",
    "rr_y_predict = rr_random_grd_search.best_estimator_.predict(X_test)\n",
    "print(evaluate_model(y_test, rr_y_predict))"
   ]
  },
  {
   "cell_type": "markdown",
   "id": "effb831d",
   "metadata": {},
   "source": [
    "## Lasso"
   ]
  },
  {
   "cell_type": "code",
   "execution_count": 21,
   "id": "106ac7c3",
   "metadata": {},
   "outputs": [
    {
     "data": {
      "text/plain": [
       "RandomizedSearchCV(cv=10, estimator=Lasso(), n_iter=5, n_jobs=-1,\n",
       "                   param_distributions={'alpha': [0.02, 0.024, 0.025, 0.026,\n",
       "                                                  0.03]},\n",
       "                   random_state=42)"
      ]
     },
     "execution_count": 21,
     "metadata": {},
     "output_type": "execute_result"
    }
   ],
   "source": [
    "lasso_params = {'alpha':[0.02, 0.024, 0.025, 0.026, 0.03]}\n",
    "lasso = Lasso()\n",
    "lasso_random_grd_search=RandomizedSearchCV(estimator = lasso, param_distributions = lasso_params, n_iter=5, cv = 10, \n",
    "                              random_state=42, n_jobs = -1)\n",
    "lasso_random_grd_search.fit(X_train, y_train)"
   ]
  },
  {
   "cell_type": "code",
   "execution_count": 22,
   "id": "a59fe248",
   "metadata": {},
   "outputs": [
    {
     "name": "stdout",
     "output_type": "stream",
     "text": [
      "-8.820520923476153\n",
      "{'alpha': 0.03}\n",
      "(2.4608211781371483, 0.8948859539356382, {0.25: 8.333333333333332, 0.3: 12.5, 0.5: 37.5})\n"
     ]
    }
   ],
   "source": [
    "print(lasso_random_grd_search.best_score_)\n",
    "print(lasso_random_grd_search.best_params_)\n",
    "lasso_y_predict = lasso_random_grd_search.best_estimator_.predict(X_test)\n",
    "print(evaluate_model(y_test, lasso_y_predict))"
   ]
  },
  {
   "cell_type": "markdown",
   "id": "e09d36e5",
   "metadata": {},
   "source": [
    "## AdaBoost"
   ]
  },
  {
   "cell_type": "code",
   "execution_count": 23,
   "id": "f5527419",
   "metadata": {},
   "outputs": [
    {
     "data": {
      "text/plain": [
       "RandomizedSearchCV(cv=10, estimator=AdaBoostRegressor(), n_iter=90, n_jobs=-1,\n",
       "                   param_distributions={'learning_rate': [0.01, 0.05, 0.1, 0.3,\n",
       "                                                          1],\n",
       "                                        'loss': ['linear', 'square',\n",
       "                                                 'exponential'],\n",
       "                                        'n_estimators': [50, 100, 200],\n",
       "                                        'random_state': [0, 1]},\n",
       "                   random_state=42)"
      ]
     },
     "execution_count": 23,
     "metadata": {},
     "output_type": "execute_result"
    }
   ],
   "source": [
    "abr_params = {'n_estimators': [50, 100, 200],\n",
    "              'learning_rate' : [0.01,0.05,0.1,0.3,1],\n",
    "              'loss' : ['linear', 'square', 'exponential'],\n",
    "              'random_state': [0,1]\n",
    "             }\n",
    "abr = AdaBoostRegressor()\n",
    "abr_random_grd_search=RandomizedSearchCV(estimator = abr, param_distributions = abr_params, n_iter=90, cv = 10, \n",
    "                              random_state=42, n_jobs = -1)\n",
    "abr_random_grd_search.fit(X_train, y_train)"
   ]
  },
  {
   "cell_type": "code",
   "execution_count": 24,
   "id": "46d32775",
   "metadata": {},
   "outputs": [
    {
     "name": "stdout",
     "output_type": "stream",
     "text": [
      "-5.747273253972013\n",
      "{'random_state': 0, 'n_estimators': 50, 'loss': 'linear', 'learning_rate': 1}\n",
      "(1.6290573333597314, 0.753484126984127, {0.25: 25.0, 0.3: 29.166666666666668, 0.5: 41.66666666666667})\n"
     ]
    }
   ],
   "source": [
    "print(abr_random_grd_search.best_score_)\n",
    "print(abr_random_grd_search.best_params_)\n",
    "abr_y_predict = abr_random_grd_search.best_estimator_.predict(X_test)\n",
    "print(evaluate_model(y_test, abr_y_predict))"
   ]
  },
  {
   "cell_type": "code",
   "execution_count": 30,
   "id": "3b33ea24",
   "metadata": {},
   "outputs": [
    {
     "data": {
      "image/png": "[encoded data removed]",
      "text/plain": [
       "<Figure size 432x288 with 1 Axes>"
      ]
     },
     "metadata": {
      "needs_background": "light"
     },
     "output_type": "display_data"
    }
   ],
   "source": [
    "import matplotlib.pyplot as plt\n",
    "import numpy as np\n",
    "\n",
    "x = [.25, .3, .5]\n",
    "plt.plot(x, [25.0, 29.166666666666668,41.66666666666667])\n",
    "plt.plot(x, [8.333333333333332, 12.5, 37.5])\n",
    "plt.plot(x, [20.833333333333336, 20.833333333333336, 29.166666666666668])\n",
    "plt.plot(x, [16.666666666666664, 20.833333333333336, 20.833333333333336])\n",
    "plt.plot(x, [16.666666666666664, 16.666666666666664, 29.166666666666668])\n",
    "plt.plot(x, [37.5, 41.66666666666667, 50.0])\n",
    "\n",
    "plt.legend(['ada','lasso', 'ridge', 'decision tree', 'svr', 'random forest'], loc='upper right')\n",
    "\n",
    "plt.show()"
   ]
  },
  {
   "cell_type": "code",
   "execution_count": 47,
   "id": "43cd1277",
   "metadata": {},
   "outputs": [
    {
     "name": "stdout",
     "output_type": "stream",
     "text": [
      "[[0.66666667 0.67317976 0.59651077 0.38109249 0.33333333 0.44870108]\n",
      " [0.89897744 0.66666667 0.54482567 0.84268577 0.16666667 0.81623433]]\n"
     ]
    }
   ],
   "source": [
    "mmre = [[0.8536396704719538, 1.4560117165243611, 1.295519512368273, 1.9650581807049745, 2.4608211781371483, 1.6290573333597314],\n",
    "        [1.9750227995986425, 1.2224320421097654, 31.942580829653416, 5.752009352326873, 44.50489631074747, 2.7383416295016723]]\n",
    "mdre = [[0.541383435960885, 0.6544852178646154, 0.7710938084024819, 0.801779912068847, 0.8948859539356382, 0.753484126984127], \n",
    "        [1.3135616776315793, 0.6566375398144461, 12.730323426573428, 2.8161613161074257, 19.068289800604422, 0.9562568344645551]]\n",
    "pred = [[37.5, 16.666666666666664, 16.666666666666664, 20.833333333333336, 8.333333333333332, 25.0 ], \n",
    "        [6.25, 25.0, 0.0, 6.25, 12.5, 12.5]]\n",
    "eff = np.zeros((2,6))\n",
    "min_mmre_81=min(mmre[1])\n",
    "max_mmre_81=max(mmre[1])\n",
    "min_pred_81=min(pred[1])\n",
    "max_pred_81=max(pred[1])\n",
    "min_mdre_81=min(mdre[1])\n",
    "max_mdre_81=max(mdre[1])\n",
    "for i in range(2):\n",
    "    min_mmre=min(mmre[i])\n",
    "    max_mmre=max(mmre[i])\n",
    "    min_pred=min(pred[i])\n",
    "    max_pred=max(pred[i])\n",
    "    min_mdre=min(mdre[i])\n",
    "    max_mdre=max(mdre[i])\n",
    "    for j in range(6):\n",
    "        Aij = 1- (mmre[i][j]-min_mmre)/(max_mmre-min_mmre)\n",
    "        Bij = 1- (mdre[i][j]-min_mdre)/(max_mdre-min_mdre)\n",
    "        Cij = 1- (pred[i][j]-min_pred)/(max_pred-min_pred)\n",
    "        Xij = (Aij+Bij+Cij)/3\n",
    "        if Xij<=0.3:\n",
    "            eff[i][j]=Xij\n",
    "        elif Xij > 0.7:\n",
    "            eff[i][j]=Xij\n",
    "        else: \n",
    "            eff[i][j]=Xij\n",
    "print(eff)"
   ]
  },
  {
   "cell_type": "code",
   "execution_count": null,
   "id": "d13d4b83",
   "metadata": {},
   "outputs": [],
   "source": []
  }
 ],
 "metadata": {
  "kernelspec": {
   "display_name": "study",
   "language": "python",
   "name": "study"
  },
  "language_info": {
   "codemirror_mode": {
    "name": "ipython",
    "version": 3
   },
   "file_extension": ".py",
   "mimetype": "text/x-python",
   "name": "python",
   "nbconvert_exporter": "python",
   "pygments_lexer": "ipython3",
   "version": "3.8.11"
  }
 },
 "nbformat": 4,
 "nbformat_minor": 5
}
