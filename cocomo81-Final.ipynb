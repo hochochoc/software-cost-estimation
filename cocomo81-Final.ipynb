{
 "cells": [
  {
   "cell_type": "code",
   "execution_count": 1,
   "id": "36e02c44",
   "metadata": {},
   "outputs": [
    {
     "data": {
      "text/plain": [
       "{'divide': 'warn', 'over': 'warn', 'under': 'ignore', 'invalid': 'warn'}"
      ]
     },
     "execution_count": 1,
     "metadata": {},
     "output_type": "execute_result"
    }
   ],
   "source": [
    "import pandas as pd\n",
    "from io import StringIO, BytesIO\n",
    "from scipy.io.arff import loadarff\n",
    "import urllib.request\n",
    "import numpy as np\n",
    "from sklearn.model_selection import train_test_split\n",
    "from sklearn import preprocessing, metrics\n",
    "from sklearn.model_selection import RepeatedKFold, RepeatedStratifiedKFold, LeaveOneOut\n",
    "from sklearn.metrics import make_scorer\n",
    "from sklearn.model_selection import GridSearchCV,RandomizedSearchCV\n",
    "from sklearn.linear_model import LinearRegression, BayesianRidge, Ridge, Lasso\n",
    "from sklearn.ensemble import RandomForestRegressor, AdaBoostRegressor\n",
    "from sklearn.tree import DecisionTreeRegressor\n",
    "from sklearn import svm\n",
    "import matplotlib.pyplot as plt\n",
    "np.seterr(invalid='ignore')"
   ]
  },
  {
   "cell_type": "code",
<<<<<<< HEAD
   "execution_count": 115,
=======
   "execution_count": 2,
>>>>>>> 301ce6b656abdd959037fed656e1e51f962aa095
   "id": "d31666bd",
   "metadata": {},
   "outputs": [
    {
     "data": {
      "text/html": [
       "<div>\n",
       "<style scoped>\n",
       "    .dataframe tbody tr th:only-of-type {\n",
       "        vertical-align: middle;\n",
       "    }\n",
       "\n",
       "    .dataframe tbody tr th {\n",
       "        vertical-align: top;\n",
       "    }\n",
       "\n",
       "    .dataframe thead th {\n",
       "        text-align: right;\n",
       "    }\n",
       "</style>\n",
       "<table border=\"1\" class=\"dataframe\">\n",
       "  <thead>\n",
       "    <tr style=\"text-align: right;\">\n",
       "      <th></th>\n",
       "      <th>rely</th>\n",
       "      <th>data</th>\n",
       "      <th>cplx</th>\n",
       "      <th>time</th>\n",
       "      <th>stor</th>\n",
       "      <th>virt</th>\n",
       "      <th>turn</th>\n",
       "      <th>acap</th>\n",
       "      <th>aexp</th>\n",
       "      <th>pcap</th>\n",
       "      <th>vexp</th>\n",
       "      <th>lexp</th>\n",
       "      <th>modp</th>\n",
       "      <th>tool</th>\n",
       "      <th>sced</th>\n",
       "      <th>loc</th>\n",
       "      <th>actual</th>\n",
       "    </tr>\n",
       "  </thead>\n",
       "  <tbody>\n",
       "    <tr>\n",
       "      <th>0</th>\n",
       "      <td>0.88</td>\n",
       "      <td>1.16</td>\n",
       "      <td>0.70</td>\n",
<<<<<<< HEAD
       "      <td>1.0</td>\n",
=======
       "      <td>1.00</td>\n",
>>>>>>> 301ce6b656abdd959037fed656e1e51f962aa095
       "      <td>1.06</td>\n",
       "      <td>1.15</td>\n",
       "      <td>1.07</td>\n",
       "      <td>1.19</td>\n",
       "      <td>1.13</td>\n",
       "      <td>1.17</td>\n",
<<<<<<< HEAD
       "      <td>1.1</td>\n",
=======
       "      <td>1.10</td>\n",
>>>>>>> 301ce6b656abdd959037fed656e1e51f962aa095
       "      <td>1.00</td>\n",
       "      <td>1.24</td>\n",
       "      <td>1.10</td>\n",
       "      <td>1.04</td>\n",
       "      <td>113.0</td>\n",
       "      <td>2040.0</td>\n",
       "    </tr>\n",
       "    <tr>\n",
       "      <th>1</th>\n",
       "      <td>0.88</td>\n",
       "      <td>1.16</td>\n",
       "      <td>0.85</td>\n",
<<<<<<< HEAD
       "      <td>1.0</td>\n",
=======
       "      <td>1.00</td>\n",
>>>>>>> 301ce6b656abdd959037fed656e1e51f962aa095
       "      <td>1.06</td>\n",
       "      <td>1.00</td>\n",
       "      <td>1.07</td>\n",
       "      <td>1.00</td>\n",
       "      <td>0.91</td>\n",
       "      <td>1.00</td>\n",
<<<<<<< HEAD
       "      <td>0.9</td>\n",
=======
       "      <td>0.90</td>\n",
>>>>>>> 301ce6b656abdd959037fed656e1e51f962aa095
       "      <td>0.95</td>\n",
       "      <td>1.10</td>\n",
       "      <td>1.00</td>\n",
       "      <td>1.00</td>\n",
       "      <td>293.0</td>\n",
       "      <td>1600.0</td>\n",
       "    </tr>\n",
       "    <tr>\n",
       "      <th>2</th>\n",
       "      <td>1.00</td>\n",
       "      <td>1.16</td>\n",
       "      <td>0.85</td>\n",
<<<<<<< HEAD
       "      <td>1.0</td>\n",
=======
       "      <td>1.00</td>\n",
>>>>>>> 301ce6b656abdd959037fed656e1e51f962aa095
       "      <td>1.00</td>\n",
       "      <td>0.87</td>\n",
       "      <td>0.94</td>\n",
       "      <td>0.86</td>\n",
       "      <td>0.82</td>\n",
       "      <td>0.86</td>\n",
<<<<<<< HEAD
       "      <td>0.9</td>\n",
=======
       "      <td>0.90</td>\n",
>>>>>>> 301ce6b656abdd959037fed656e1e51f962aa095
       "      <td>0.95</td>\n",
       "      <td>0.91</td>\n",
       "      <td>0.91</td>\n",
       "      <td>1.00</td>\n",
       "      <td>132.0</td>\n",
       "      <td>243.0</td>\n",
       "    </tr>\n",
       "    <tr>\n",
       "      <th>3</th>\n",
       "      <td>0.75</td>\n",
       "      <td>1.16</td>\n",
       "      <td>0.70</td>\n",
<<<<<<< HEAD
       "      <td>1.0</td>\n",
=======
       "      <td>1.00</td>\n",
>>>>>>> 301ce6b656abdd959037fed656e1e51f962aa095
       "      <td>1.00</td>\n",
       "      <td>0.87</td>\n",
       "      <td>1.00</td>\n",
       "      <td>1.19</td>\n",
       "      <td>0.91</td>\n",
       "      <td>1.42</td>\n",
<<<<<<< HEAD
       "      <td>1.0</td>\n",
=======
       "      <td>1.00</td>\n",
>>>>>>> 301ce6b656abdd959037fed656e1e51f962aa095
       "      <td>0.95</td>\n",
       "      <td>1.24</td>\n",
       "      <td>1.00</td>\n",
       "      <td>1.04</td>\n",
       "      <td>60.0</td>\n",
       "      <td>240.0</td>\n",
       "    </tr>\n",
       "    <tr>\n",
       "      <th>4</th>\n",
       "      <td>0.88</td>\n",
       "      <td>0.94</td>\n",
       "      <td>1.00</td>\n",
<<<<<<< HEAD
       "      <td>1.0</td>\n",
=======
       "      <td>1.00</td>\n",
>>>>>>> 301ce6b656abdd959037fed656e1e51f962aa095
       "      <td>1.00</td>\n",
       "      <td>0.87</td>\n",
       "      <td>1.00</td>\n",
       "      <td>1.00</td>\n",
       "      <td>1.00</td>\n",
       "      <td>0.86</td>\n",
<<<<<<< HEAD
       "      <td>0.9</td>\n",
=======
       "      <td>0.90</td>\n",
>>>>>>> 301ce6b656abdd959037fed656e1e51f962aa095
       "      <td>0.95</td>\n",
       "      <td>1.24</td>\n",
       "      <td>1.00</td>\n",
       "      <td>1.00</td>\n",
       "      <td>16.0</td>\n",
       "      <td>33.0</td>\n",
       "    </tr>\n",
<<<<<<< HEAD
       "  </tbody>\n",
       "</table>\n",
       "</div>"
      ],
      "text/plain": [
       "   rely  data  cplx  time  stor  virt  turn  acap  aexp  pcap  vexp  lexp  \\\n",
       "0  0.88  1.16  0.70   1.0  1.06  1.15  1.07  1.19  1.13  1.17   1.1  1.00   \n",
       "1  0.88  1.16  0.85   1.0  1.06  1.00  1.07  1.00  0.91  1.00   0.9  0.95   \n",
       "2  1.00  1.16  0.85   1.0  1.00  0.87  0.94  0.86  0.82  0.86   0.9  0.95   \n",
       "3  0.75  1.16  0.70   1.0  1.00  0.87  1.00  1.19  0.91  1.42   1.0  0.95   \n",
       "4  0.88  0.94  1.00   1.0  1.00  0.87  1.00  1.00  1.00  0.86   0.9  0.95   \n",
       "\n",
       "   modp  tool  sced    loc  actual  \n",
       "0  1.24  1.10  1.04  113.0  2040.0  \n",
       "1  1.10  1.00  1.00  293.0  1600.0  \n",
       "2  0.91  0.91  1.00  132.0   243.0  \n",
       "3  1.24  1.00  1.04   60.0   240.0  \n",
       "4  1.24  1.00  1.00   16.0    33.0  "
      ]
     },
     "execution_count": 115,
=======
       "    <tr>\n",
       "      <th>...</th>\n",
       "      <td>...</td>\n",
       "      <td>...</td>\n",
       "      <td>...</td>\n",
       "      <td>...</td>\n",
       "      <td>...</td>\n",
       "      <td>...</td>\n",
       "      <td>...</td>\n",
       "      <td>...</td>\n",
       "      <td>...</td>\n",
       "      <td>...</td>\n",
       "      <td>...</td>\n",
       "      <td>...</td>\n",
       "      <td>...</td>\n",
       "      <td>...</td>\n",
       "      <td>...</td>\n",
       "      <td>...</td>\n",
       "      <td>...</td>\n",
       "    </tr>\n",
       "    <tr>\n",
       "      <th>58</th>\n",
       "      <td>1.00</td>\n",
       "      <td>0.94</td>\n",
       "      <td>1.15</td>\n",
       "      <td>1.06</td>\n",
       "      <td>1.06</td>\n",
       "      <td>1.00</td>\n",
       "      <td>0.87</td>\n",
       "      <td>1.00</td>\n",
       "      <td>1.00</td>\n",
       "      <td>1.00</td>\n",
       "      <td>1.00</td>\n",
       "      <td>1.00</td>\n",
       "      <td>0.91</td>\n",
       "      <td>1.00</td>\n",
       "      <td>1.00</td>\n",
       "      <td>23.0</td>\n",
       "      <td>70.0</td>\n",
       "    </tr>\n",
       "    <tr>\n",
       "      <th>59</th>\n",
       "      <td>1.15</td>\n",
       "      <td>0.94</td>\n",
       "      <td>1.30</td>\n",
       "      <td>1.11</td>\n",
       "      <td>1.06</td>\n",
       "      <td>1.00</td>\n",
       "      <td>1.00</td>\n",
       "      <td>0.86</td>\n",
       "      <td>1.13</td>\n",
       "      <td>0.86</td>\n",
       "      <td>1.10</td>\n",
       "      <td>1.07</td>\n",
       "      <td>1.10</td>\n",
       "      <td>1.10</td>\n",
       "      <td>1.08</td>\n",
       "      <td>6.7</td>\n",
       "      <td>57.0</td>\n",
       "    </tr>\n",
       "    <tr>\n",
       "      <th>60</th>\n",
       "      <td>1.00</td>\n",
       "      <td>0.94</td>\n",
       "      <td>1.15</td>\n",
       "      <td>1.00</td>\n",
       "      <td>1.00</td>\n",
       "      <td>0.87</td>\n",
       "      <td>0.87</td>\n",
       "      <td>0.86</td>\n",
       "      <td>1.00</td>\n",
       "      <td>0.86</td>\n",
       "      <td>0.90</td>\n",
       "      <td>1.00</td>\n",
       "      <td>0.82</td>\n",
       "      <td>1.00</td>\n",
       "      <td>1.00</td>\n",
       "      <td>28.0</td>\n",
       "      <td>50.0</td>\n",
       "    </tr>\n",
       "    <tr>\n",
       "      <th>61</th>\n",
       "      <td>0.88</td>\n",
       "      <td>0.94</td>\n",
       "      <td>1.30</td>\n",
       "      <td>1.11</td>\n",
       "      <td>1.21</td>\n",
       "      <td>1.15</td>\n",
       "      <td>1.00</td>\n",
       "      <td>0.78</td>\n",
       "      <td>0.82</td>\n",
       "      <td>0.70</td>\n",
       "      <td>1.21</td>\n",
       "      <td>1.14</td>\n",
       "      <td>0.91</td>\n",
       "      <td>1.24</td>\n",
       "      <td>1.00</td>\n",
       "      <td>9.1</td>\n",
       "      <td>38.0</td>\n",
       "    </tr>\n",
       "    <tr>\n",
       "      <th>62</th>\n",
       "      <td>1.00</td>\n",
       "      <td>0.94</td>\n",
       "      <td>1.15</td>\n",
       "      <td>1.00</td>\n",
       "      <td>1.00</td>\n",
       "      <td>1.00</td>\n",
       "      <td>0.87</td>\n",
       "      <td>0.71</td>\n",
       "      <td>0.82</td>\n",
       "      <td>0.86</td>\n",
       "      <td>1.00</td>\n",
       "      <td>1.00</td>\n",
       "      <td>0.82</td>\n",
       "      <td>1.00</td>\n",
       "      <td>1.00</td>\n",
       "      <td>10.0</td>\n",
       "      <td>15.0</td>\n",
       "    </tr>\n",
       "  </tbody>\n",
       "</table>\n",
       "<p>63 rows × 17 columns</p>\n",
       "</div>"
      ],
      "text/plain": [
       "    rely  data  cplx  time  stor  virt  turn  acap  aexp  pcap  vexp  lexp  \\\n",
       "0   0.88  1.16  0.70  1.00  1.06  1.15  1.07  1.19  1.13  1.17  1.10  1.00   \n",
       "1   0.88  1.16  0.85  1.00  1.06  1.00  1.07  1.00  0.91  1.00  0.90  0.95   \n",
       "2   1.00  1.16  0.85  1.00  1.00  0.87  0.94  0.86  0.82  0.86  0.90  0.95   \n",
       "3   0.75  1.16  0.70  1.00  1.00  0.87  1.00  1.19  0.91  1.42  1.00  0.95   \n",
       "4   0.88  0.94  1.00  1.00  1.00  0.87  1.00  1.00  1.00  0.86  0.90  0.95   \n",
       "..   ...   ...   ...   ...   ...   ...   ...   ...   ...   ...   ...   ...   \n",
       "58  1.00  0.94  1.15  1.06  1.06  1.00  0.87  1.00  1.00  1.00  1.00  1.00   \n",
       "59  1.15  0.94  1.30  1.11  1.06  1.00  1.00  0.86  1.13  0.86  1.10  1.07   \n",
       "60  1.00  0.94  1.15  1.00  1.00  0.87  0.87  0.86  1.00  0.86  0.90  1.00   \n",
       "61  0.88  0.94  1.30  1.11  1.21  1.15  1.00  0.78  0.82  0.70  1.21  1.14   \n",
       "62  1.00  0.94  1.15  1.00  1.00  1.00  0.87  0.71  0.82  0.86  1.00  1.00   \n",
       "\n",
       "    modp  tool  sced    loc  actual  \n",
       "0   1.24  1.10  1.04  113.0  2040.0  \n",
       "1   1.10  1.00  1.00  293.0  1600.0  \n",
       "2   0.91  0.91  1.00  132.0   243.0  \n",
       "3   1.24  1.00  1.04   60.0   240.0  \n",
       "4   1.24  1.00  1.00   16.0    33.0  \n",
       "..   ...   ...   ...    ...     ...  \n",
       "58  0.91  1.00  1.00   23.0    70.0  \n",
       "59  1.10  1.10  1.08    6.7    57.0  \n",
       "60  0.82  1.00  1.00   28.0    50.0  \n",
       "61  0.91  1.24  1.00    9.1    38.0  \n",
       "62  0.82  1.00  1.00   10.0    15.0  \n",
       "\n",
       "[63 rows x 17 columns]"
      ]
     },
     "execution_count": 2,
>>>>>>> 301ce6b656abdd959037fed656e1e51f962aa095
     "metadata": {},
     "output_type": "execute_result"
    }
   ],
   "source": [
    "cocomo81_url = 'http://promise.site.uottawa.ca/SERepository/datasets/cocomo81.arff'\n",
    "resp81 = urllib.request.urlopen(cocomo81_url)\n",
    "cocomo81_data, cocomo81_meta = loadarff(StringIO(resp81.read().decode('utf-8')))\n",
    "cocomo81_df = pd.DataFrame(cocomo81_data)\n",
<<<<<<< HEAD
    "cocomo81_df.head()"
=======
    "cocomo81_df"
>>>>>>> 301ce6b656abdd959037fed656e1e51f962aa095
   ]
  },
  {
   "cell_type": "code",
   "execution_count": 3,
   "id": "510c08b4",
   "metadata": {},
   "outputs": [],
   "source": [
    "cocomo81_X = cocomo81_df.iloc[:, :-1]\n",
    "cocomo81_y = cocomo81_df.iloc[:, -1]"
   ]
  },
  {
   "cell_type": "code",
   "execution_count": 83,
   "id": "21ad9e3d",
   "metadata": {},
   "outputs": [],
   "source": [
    "def evaluate_model(actual, predicted):\n",
    "    diff=np.absolute(actual-predicted)\n",
    "    MRE=diff/actual\n",
    "    pred = {}\n",
    "    for x in np.array([.25, .3, .5]):\n",
    "        P=MRE[MRE<x]\n",
    "        pred[x] = (P.size/MRE.size) * 100\n",
    "    return np.mean(MRE), np.median(MRE), pred"
   ]
  },
  {
   "cell_type": "code",
   "execution_count": 5,
   "id": "eeb4ff68",
   "metadata": {},
   "outputs": [
    {
     "data": {
      "text/plain": [
       "(16, 16)"
      ]
     },
     "execution_count": 5,
     "metadata": {},
     "output_type": "execute_result"
    }
   ],
   "source": [
    "X_train, X_test, y_train, y_test = train_test_split(\n",
    "    cocomo81_X, cocomo81_y, test_size=0.25, random_state=42)\n",
    "X_test.shape"
   ]
  },
  {
   "cell_type": "code",
   "execution_count": 14,
   "id": "b8d36cab",
   "metadata": {},
   "outputs": [],
   "source": [
    "scorers = {'pred': make_scorer(custom_loss_pred, greater_is_better=True), 'mmre': make_scorer(custom_loss_mmre, greater_is_better=True)}"
   ]
  },
  {
   "cell_type": "markdown",
   "id": "be938283",
   "metadata": {},
   "source": [
    "# Comparison between regression algorithms\n",
    "## Random Forest Regressor"
   ]
  },
  {
   "cell_type": "code",
   "execution_count": 37,
   "id": "1ab28371",
   "metadata": {},
   "outputs": [],
   "source": [
    "random_grid={'bootstrap': [True, False],\n",
    " 'max_depth': [10, 20, 30, 40, 50, 60, 70, 80, 90, 100, None],\n",
    " 'max_features': [1,2,3,4,5,6,7,8,9,10],\n",
    " 'min_samples_leaf': [1, 2, 4],\n",
    " 'min_samples_split': [2, 5, 10],\n",
    " 'n_estimators': [200, 400, 600, 800, 1000, 1200, 1400, 1600, 1800, 2000]}"
   ]
  },
  {
   "cell_type": "code",
   "execution_count": 84,
   "id": "e3b04359",
   "metadata": {},
   "outputs": [
    {
     "data": {
      "text/plain": [
       "RandomizedSearchCV(cv=10, estimator=RandomForestRegressor(), n_iter=100,\n",
       "                   n_jobs=-1,\n",
       "                   param_distributions={'bootstrap': [True, False],\n",
       "                                        'max_depth': [10, 20, 30, 40, 50, 60,\n",
       "                                                      70, 80, 90, 100, None],\n",
       "                                        'max_features': [1, 2, 3, 4, 5, 6, 7, 8,\n",
       "                                                         9, 10],\n",
       "                                        'min_samples_leaf': [1, 2, 4],\n",
       "                                        'min_samples_split': [2, 5, 10],\n",
       "                                        'n_estimators': [200, 400, 600, 800,\n",
       "                                                         1000, 1200, 1400, 1600,\n",
       "                                                         1800, 2000]},\n",
       "                   random_state=42)"
      ]
     },
     "execution_count": 84,
     "metadata": {},
     "output_type": "execute_result"
    }
   ],
   "source": [
    "clf= RandomForestRegressor()\n",
    "random_grd_search=RandomizedSearchCV(estimator = clf, param_distributions = random_grid, n_iter = 100, cv = 10, random_state=42, n_jobs = -1)\n",
    "random_grd_search.fit(X_train, y_train)"
   ]
  },
  {
   "cell_type": "code",
   "execution_count": 85,
   "id": "c9e9291e",
   "metadata": {
    "scrolled": true
   },
   "outputs": [
    {
     "name": "stdout",
     "output_type": "stream",
     "text": [
      "-4.655847806888499\n",
      "{'n_estimators': 800, 'min_samples_split': 5, 'min_samples_leaf': 2, 'max_features': 10, 'max_depth': 20, 'bootstrap': False}\n",
      "(1.9750227995986425, 1.3135616776315793, {0.25: 6.25, 0.3: 12.5, 0.5: 18.75})\n"
     ]
    }
   ],
   "source": [
    "print(random_grd_search.best_score_)\n",
    "print(random_grd_search.best_params_)\n",
    "y_predict = random_grd_search.best_estimator_.predict(X_test)\n",
    "print(evaluate_model(y_test, y_predict))"
   ]
  },
  {
   "cell_type": "markdown",
   "id": "64c43fd5",
   "metadata": {},
   "source": [
    "## SVR"
   ]
  },
  {
   "cell_type": "code",
   "execution_count": 86,
   "id": "5dda21e8",
   "metadata": {},
   "outputs": [],
   "source": [
    "svr_params = {'kernel': ('linear','rbf','poly'), 'C':[1.5, 10],'gamma': [1e-7, 1e-4],'epsilon':[0.1,0.2,0.5,0.3]}"
   ]
  },
  {
   "cell_type": "code",
   "execution_count": 87,
   "id": "f6a7c9e0",
   "metadata": {},
   "outputs": [
    {
     "data": {
      "text/plain": [
       "RandomizedSearchCV(cv=10, estimator=SVR(), n_iter=48, n_jobs=-1,\n",
       "                   param_distributions={'C': [1.5, 10],\n",
       "                                        'epsilon': [0.1, 0.2, 0.5, 0.3],\n",
       "                                        'gamma': [1e-07, 0.0001],\n",
       "                                        'kernel': ('linear', 'rbf', 'poly')},\n",
       "                   random_state=42)"
      ]
     },
     "execution_count": 87,
     "metadata": {},
     "output_type": "execute_result"
    }
   ],
   "source": [
    "svr= svm.SVR()\n",
    "svr_random_grd_search=RandomizedSearchCV(estimator = svr, param_distributions = svr_params, n_iter=48, cv = 10, random_state=42, n_jobs = -1)\n",
    "svr_random_grd_search.fit(X_train, y_train)"
   ]
  },
  {
   "cell_type": "code",
   "execution_count": 88,
   "id": "ded49080",
   "metadata": {
    "scrolled": false
   },
   "outputs": [
    {
     "name": "stdout",
     "output_type": "stream",
     "text": [
      "{'kernel': 'linear', 'gamma': 1e-07, 'epsilon': 0.5, 'C': 10}\n",
      "(1.2224320421097654, 0.6566375398144461, {0.25: 25.0, 0.3: 31.25, 0.5: 43.75})\n",
      "-0.02087098609338083\n"
     ]
    }
   ],
   "source": [
    "print(svr_random_grd_search.best_params_)\n",
    "svr_y_predict = svr_random_grd_search.best_estimator_.predict(X_test)\n",
    "print(evaluate_model(y_test, svr_y_predict))\n",
    "print(svr_random_grd_search.best_score_)"
   ]
  },
  {
   "cell_type": "markdown",
   "id": "e98f7f88",
   "metadata": {},
   "source": [
    "## Decision Tree Regressor"
   ]
  },
  {
   "cell_type": "code",
   "execution_count": 89,
   "id": "a747a0f5",
   "metadata": {},
   "outputs": [],
   "source": [
    "dtr_params={\"splitter\":[\"best\",\"random\"],\n",
    "            \"max_depth\" : [1,3,5,7,9,11,12],\n",
    "            \"min_samples_leaf\":[1,2,3,4,5,6,7,8,9,10],\n",
    "            \"min_weight_fraction_leaf\":[0.1,0.2,0.3,0.4,0.5],\n",
    "            \"max_features\":[\"auto\",\"log2\",\"sqrt\",None],\n",
    "            \"max_leaf_nodes\":[None,10,20,30,40,50,60,70,80,90] }"
   ]
  },
  {
   "cell_type": "code",
   "execution_count": 90,
   "id": "5b5b2add",
   "metadata": {},
   "outputs": [
    {
     "data": {
      "text/plain": [
       "RandomizedSearchCV(cv=10, estimator=DecisionTreeRegressor(), n_iter=28000,\n",
       "                   n_jobs=-1,\n",
       "                   param_distributions={'max_depth': [1, 3, 5, 7, 9, 11, 12],\n",
       "                                        'max_features': ['auto', 'log2', 'sqrt',\n",
       "                                                         None],\n",
       "                                        'max_leaf_nodes': [None, 10, 20, 30, 40,\n",
       "                                                           50, 60, 70, 80, 90],\n",
       "                                        'min_samples_leaf': [1, 2, 3, 4, 5, 6,\n",
       "                                                             7, 8, 9, 10],\n",
       "                                        'min_weight_fraction_leaf': [0.1, 0.2,\n",
       "                                                                     0.3, 0.4,\n",
       "                                                                     0.5],\n",
       "                                        'splitter': ['best', 'random']},\n",
       "                   random_state=42)"
      ]
     },
     "execution_count": 90,
     "metadata": {},
     "output_type": "execute_result"
    }
   ],
   "source": [
    "dtr = DecisionTreeRegressor()\n",
    "dtr_random_grd_search=RandomizedSearchCV(estimator = dtr, param_distributions = dtr_params, n_iter=28000, cv = 10, \n",
    "                              random_state=42, n_jobs = -1)\n",
    "dtr_random_grd_search.fit(X_train, y_train)"
   ]
  },
  {
   "cell_type": "code",
   "execution_count": 114,
   "id": "c4304d8d",
   "metadata": {},
   "outputs": [
    {
     "name": "stdout",
     "output_type": "stream",
     "text": [
      "(1.5553291828655325, 0.628780487804878, {0.25: 12.5, 0.3: 12.5, 0.5: 37.5})\n"
     ]
    }
   ],
   "source": [
    "model = DecisionTreeRegressor()\n",
    "model.fit(X_train, y_train)\n",
    "predict = model.predict(X_test)\n",
    "print(evaluate_model(y_test, predict))"
   ]
  },
  {
   "cell_type": "code",
   "execution_count": 91,
   "id": "2f8fae75",
   "metadata": {},
   "outputs": [
    {
     "name": "stdout",
     "output_type": "stream",
     "text": [
      "{'splitter': 'best', 'min_weight_fraction_leaf': 0.2, 'min_samples_leaf': 10, 'max_leaf_nodes': 30, 'max_features': 'sqrt', 'max_depth': 11}\n",
      "(31.942580829653416, 12.730323426573428, {0.25: 0.0, 0.3: 0.0, 0.5: 0.0})\n",
      "-0.017162773511801933\n"
     ]
    }
   ],
   "source": [
    "print(dtr_random_grd_search.best_params_)\n",
    "dtr_y_predict = dtr_random_grd_search.best_estimator_.predict(X_test)\n",
    "print(evaluate_model(y_test, dtr_y_predict))\n",
    "print(dtr_random_grd_search.best_score_)"
   ]
  },
  {
   "cell_type": "markdown",
   "id": "0d4b98bc",
   "metadata": {},
   "source": [
    "## AdaBoostRegressor"
   ]
  },
  {
   "cell_type": "code",
   "execution_count": 92,
   "id": "350077b4",
   "metadata": {},
   "outputs": [],
   "source": [
    "abr_params = {'n_estimators': [50, 100, 200],\n",
    "              'learning_rate' : [0.01,0.05,0.1,0.3,1],\n",
    "              'loss' : ['linear', 'square', 'exponential'],\n",
    "              'random_state': [0,1]\n",
    "             }"
   ]
  },
  {
   "cell_type": "code",
   "execution_count": 93,
   "id": "d6b67ae1",
   "metadata": {},
   "outputs": [
    {
     "data": {
      "text/plain": [
       "RandomizedSearchCV(cv=10, estimator=AdaBoostRegressor(), n_iter=90, n_jobs=-1,\n",
       "                   param_distributions={'learning_rate': [0.01, 0.05, 0.1, 0.3,\n",
       "                                                          1],\n",
       "                                        'loss': ['linear', 'square',\n",
       "                                                 'exponential'],\n",
       "                                        'n_estimators': [50, 100, 200],\n",
       "                                        'random_state': [0, 1]},\n",
       "                   random_state=42)"
      ]
     },
     "execution_count": 93,
     "metadata": {},
     "output_type": "execute_result"
    }
   ],
   "source": [
    "abr = AdaBoostRegressor()\n",
    "abr_random_grd_search=RandomizedSearchCV(estimator = abr, param_distributions = abr_params, n_iter=90, cv = 10, \n",
    "                              random_state=42, n_jobs = -1)\n",
    "abr_random_grd_search.fit(X_train, y_train)"
   ]
  },
  {
   "cell_type": "code",
   "execution_count": 94,
   "id": "5e80b965",
   "metadata": {
    "scrolled": true
   },
   "outputs": [
    {
     "name": "stdout",
     "output_type": "stream",
     "text": [
      "{'random_state': 1, 'n_estimators': 100, 'loss': 'square', 'learning_rate': 0.01}\n",
      "(2.7383416295016723, 0.9562568344645551, {0.25: 12.5, 0.3: 12.5, 0.5: 12.5})\n"
     ]
    }
   ],
   "source": [
    "print(abr_random_grd_search.best_params_)\n",
    "abr_y_predict = abr_random_grd_search.best_estimator_.predict(X_test)\n",
    "print(evaluate_model(y_test, abr_y_predict))"
   ]
  },
  {
   "cell_type": "code",
   "execution_count": 95,
   "id": "f46b3f64",
   "metadata": {},
   "outputs": [
    {
     "name": "stdout",
     "output_type": "stream",
     "text": [
      "-1.3934167530573667\n"
     ]
    }
   ],
   "source": [
    "# print(public_scores(abr_random_grd_search.cv_results_, abr_random_grd_search.best_index_))\n",
    "print(abr_random_grd_search.best_score_)"
   ]
  },
  {
   "cell_type": "markdown",
   "id": "495c3523",
   "metadata": {},
   "source": [
    "## Ridge"
   ]
  },
  {
   "cell_type": "code",
   "execution_count": 96,
   "id": "e72b40b9",
   "metadata": {},
   "outputs": [],
   "source": [
    "rr_params = {'alpha':[200, 230, 250,265, 270, 275, 290, 300, 500]}"
   ]
  },
  {
   "cell_type": "code",
   "execution_count": 97,
   "id": "b41c85c4",
   "metadata": {},
   "outputs": [
    {
     "data": {
      "text/plain": [
       "RandomizedSearchCV(cv=10, estimator=Ridge(), n_iter=9, n_jobs=-1,\n",
       "                   param_distributions={'alpha': [200, 230, 250, 265, 270, 275,\n",
       "                                                  290, 300, 500]},\n",
       "                   random_state=42)"
      ]
     },
     "execution_count": 97,
     "metadata": {},
     "output_type": "execute_result"
    }
   ],
   "source": [
    "rr = Ridge()\n",
    "rr_random_grd_search=RandomizedSearchCV(estimator = rr, param_distributions = rr_params, n_iter=9, cv = 10, \n",
    "                           random_state=42, n_jobs = -1)\n",
    "rr_random_grd_search.fit(X_train, y_train)"
   ]
  },
  {
   "cell_type": "code",
   "execution_count": 112,
   "id": "7070d81f",
   "metadata": {},
   "outputs": [
    {
     "name": "stdout",
     "output_type": "stream",
     "text": [
      "{'alpha': 200}\n",
      "(5.752009352326873, 2.8161613161074257, {0.25: 6.25, 0.3: 12.5, 0.5: 12.5})\n"
     ]
    },
    {
     "data": {
      "text/plain": [
       "0.43840315313772715"
      ]
     },
     "execution_count": 112,
     "metadata": {},
     "output_type": "execute_result"
    }
   ],
   "source": [
    "print(rr_random_grd_search.best_params_)\n",
    "rr_y_predict = rr_random_grd_search.best_estimator_.predict(X_test)\n",
    "print(evaluate_model(y_test, rr_y_predict))\n",
    "rr_random_grd_search.best_estimator_.score(X_test, y_test)\n",
    "# print(rr_random_grd_search.best_score_)"
   ]
  },
  {
   "cell_type": "markdown",
   "id": "eedbd15d",
   "metadata": {},
   "source": [
    "## Lasso"
   ]
  },
  {
   "cell_type": "code",
   "execution_count": 99,
   "id": "abb38736",
   "metadata": {},
   "outputs": [],
   "source": [
    "lasso_params = {'alpha':[0.02, 0.024, 0.025, 0.026, 0.03]}"
   ]
  },
  {
   "cell_type": "code",
   "execution_count": 107,
   "id": "7ef1b380",
   "metadata": {},
   "outputs": [
    {
     "data": {
      "text/plain": [
       "RandomizedSearchCV(cv=10, estimator=Lasso(), n_iter=5, n_jobs=-1,\n",
       "                   param_distributions={'alpha': [0.02, 0.024, 0.025, 0.026,\n",
       "                                                  0.03]},\n",
       "                   random_state=42)"
      ]
     },
     "execution_count": 107,
     "metadata": {},
     "output_type": "execute_result"
    }
   ],
   "source": [
    "lasso = Lasso()\n",
    "lasso_random_grd_search=RandomizedSearchCV(estimator = lasso, param_distributions = lasso_params, n_iter=5, cv = 10, \n",
    "                             random_state=42, n_jobs = -1)\n",
    "lasso_random_grd_search.fit(X_train, y_train)"
   ]
  },
  {
   "cell_type": "code",
   "execution_count": 108,
   "id": "5b1fd912",
   "metadata": {},
   "outputs": [
    {
     "name": "stdout",
     "output_type": "stream",
     "text": [
      "{'alpha': 0.03}\n",
      "(44.50489631074747, 19.068289800604422, {0.25: 12.5, 0.3: 12.5, 0.5: 12.5})\n",
      "-130.5167934277823\n"
     ]
    }
   ],
   "source": [
    "print(lasso_random_grd_search.best_params_)\n",
    "lasso_y_predict = lasso_random_grd_search.best_estimator_.predict(X_test)\n",
    "print(evaluate_model(y_test, lasso_y_predict))\n",
    "print(lasso_random_grd_search.best_score_)"
   ]
  },
  {
   "cell_type": "code",
   "execution_count": 113,
   "id": "4fc60bd3",
   "metadata": {},
   "outputs": [
    {
     "data": {
      "image/png": "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\n",
      "text/plain": [
       "<Figure size 432x288 with 1 Axes>"
      ]
     },
     "metadata": {
      "needs_background": "light"
     },
     "output_type": "display_data"
    }
   ],
   "source": [
    "import matplotlib.pyplot as plt\n",
    "import numpy as np\n",
    "\n",
    "x = [.25, .3, .5]\n",
    "plt.plot(x, [12.5, 12.5, 12.5])\n",
    "plt.plot(x, [12.5, 12.5, 12.5])\n",
    "plt.plot(x, [6.25, 12.5, 12.5])\n",
    "plt.plot(x, [0.0, 0.0, 0.0])\n",
    "plt.plot(x, [25.0, 31.25, 43.75])\n",
    "plt.plot(x, [6.25, 12.5, 18.75])\n",
    "\n",
    "plt.legend(['ada','lasso', 'ridge', 'decision tree', 'svr', 'random forest'], loc='upper right')\n",
    "\n",
    "plt.show()"
   ]
  },
  {
   "cell_type": "code",
   "execution_count": null,
   "id": "25972cf1",
   "metadata": {},
   "outputs": [],
   "source": []
  }
 ],
 "metadata": {
  "kernelspec": {
   "display_name": "study",
   "language": "python",
   "name": "study"
  },
  "language_info": {
   "codemirror_mode": {
    "name": "ipython",
    "version": 3
   },
   "file_extension": ".py",
   "mimetype": "text/x-python",
   "name": "python",
   "nbconvert_exporter": "python",
   "pygments_lexer": "ipython3",
   "version": "3.8.11"
  }
 },
 "nbformat": 4,
 "nbformat_minor": 5
}
